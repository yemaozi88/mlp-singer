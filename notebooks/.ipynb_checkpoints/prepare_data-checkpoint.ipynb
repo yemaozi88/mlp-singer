{
 "cells": [
  {
   "cell_type": "code",
   "execution_count": 8,
   "id": "a7e5b0dc",
   "metadata": {},
   "outputs": [],
   "source": [
    "import os\n",
    "import sys\n",
    "import glob\n",
    "import shutil\n",
    "import importlib\n",
    "\n",
    "repos_mlps_dir = os.path.dirname(os.getcwd())\n",
    "sys.path.append(repos_mlps_dir)\n",
    "import default_settings as default"
   ]
  },
  {
   "cell_type": "code",
   "execution_count": 2,
   "id": "7218079b",
   "metadata": {},
   "outputs": [],
   "source": [
    "importlib.reload(default)\n",
    "data_dir = os.path.join(default.data_dir, 'raw')\n",
    "corpus_dir = os.path.join(default.csd_dir, 'korean')"
   ]
  },
  {
   "cell_type": "markdown",
   "id": "bd790d3a",
   "metadata": {},
   "source": [
    "## copy the required data."
   ]
  },
  {
   "cell_type": "code",
   "execution_count": 12,
   "id": "2b3d6aa4",
   "metadata": {
    "collapsed": true
   },
   "outputs": [
    {
     "name": "stdout",
     "output_type": "stream",
     "text": [
      "kr001a\n",
      "kr001b\n",
      "kr002a\n",
      "kr002b\n",
      "kr003a\n",
      "kr003b\n",
      "kr004a\n",
      "kr004b\n",
      "kr005a\n",
      "kr005b\n",
      "kr006a\n",
      "kr006b\n",
      "kr007a\n",
      "kr007b\n",
      "kr008a\n",
      "kr008b\n",
      "kr009a\n",
      "kr009b\n",
      "kr010a\n",
      "kr010b\n",
      "kr011a\n",
      "kr011b\n",
      "kr012a\n",
      "kr012b\n",
      "kr013a\n",
      "kr013b\n",
      "kr014a\n",
      "kr014b\n",
      "kr015a\n",
      "kr015b\n",
      "kr016a\n",
      "kr016b\n",
      "kr017a\n",
      "kr017b\n",
      "kr018a\n",
      "kr018b\n",
      "kr019a\n",
      "kr019b\n",
      "kr020a\n",
      "kr020b\n",
      "kr021a\n",
      "kr021b\n",
      "kr022a\n",
      "kr022b\n",
      "kr023a\n",
      "kr023b\n",
      "kr024a\n",
      "kr024b\n",
      "kr025a\n",
      "kr025b\n",
      "kr026a\n",
      "kr026b\n",
      "kr027a\n",
      "kr027b\n",
      "kr028a\n",
      "kr028b\n",
      "kr029a\n",
      "kr029b\n",
      "kr030a\n",
      "kr030b\n",
      "kr031a\n",
      "kr031b\n",
      "kr032a\n",
      "kr032b\n",
      "kr033a\n",
      "kr033b\n",
      "kr034a\n",
      "kr034b\n",
      "kr035a\n",
      "kr035b\n",
      "kr036a\n",
      "kr036b\n",
      "kr037a\n",
      "kr037b\n",
      "kr038a\n",
      "kr038b\n",
      "kr039a\n",
      "kr039b\n",
      "kr040a\n",
      "kr040b\n",
      "kr041a\n",
      "kr041b\n",
      "kr042a\n",
      "kr042b\n",
      "kr043a\n",
      "kr043b\n",
      "kr044a\n",
      "kr044b\n",
      "kr045a\n",
      "kr045b\n",
      "kr046a\n",
      "kr046b\n",
      "kr047a\n",
      "kr047b\n",
      "kr048a\n",
      "kr048b\n",
      "kr049a\n",
      "kr049b\n",
      "kr050a\n",
      "kr050b\n"
     ]
    }
   ],
   "source": [
    "wav_paths = glob.glob(os.path.join(corpus_dir, 'wav', '*.wav'))\n",
    "for wav_path in wav_paths:\n",
    "    wav_id = os.path.basename(wav_path).replace('.wav', '')\n",
    "    print(wav_id)\n",
    "#     shutil.copy(\n",
    "#         wav_path,\n",
    "#         os.path.join(data_dir, 'wav', wav_id + '.wav')\n",
    "#     )\n",
    "    shutil.copy(\n",
    "        os.path.join(corpus_dir, 'lyric', wav_id + '.txt'),\n",
    "        os.path.join(data_dir, 'txt', wav_id + '.txt')\n",
    "    )\n",
    "#     shutil.copy(\n",
    "#         os.path.join(corpus_dir, 'mid', wav_id + '.mid'),\n",
    "#         os.path.join(data_dir, 'mid', wav_id + '.mid')\n",
    "#     )        "
   ]
  },
  {
   "cell_type": "markdown",
   "id": "389db293",
   "metadata": {},
   "source": [
    "## check g2p.py"
   ]
  },
  {
   "cell_type": "code",
   "execution_count": 24,
   "id": "9f0bafe1",
   "metadata": {},
   "outputs": [],
   "source": [
    "text_path = os.path.join(data_dir, 'txt', 'kr001a.txt')\n",
    "import data.preprocess as pp\n",
    "import data.g2p as g2p"
   ]
  },
  {
   "cell_type": "code",
   "execution_count": 32,
   "id": "b4f84aa3",
   "metadata": {},
   "outputs": [
    {
     "data": {
      "text/plain": [
       "['e', 'i', 'b_i', 'ss_i', 'd_i', 'i', 'e', 'p_eu', 'j_i']"
      ]
     },
     "execution_count": 32,
     "metadata": {},
     "output_type": "execute_result"
    }
   ],
   "source": [
    "#pp.get_phonemes(txt_path)\n",
    "with open(text_path) as f:\n",
    "    text = f.read().splitlines()\n",
    "line = text[0].strip()\n",
    "\n",
    "#g2p.encode(line)\n",
    "#g2p.graph2prono(line) #''\n",
    "prono = line\n",
    "prono = prono.split(\" \")\n",
    "prono\n",
    "# encoded_prono = [Phone()]\n",
    "# for p in prono:\n",
    "#     if p in ONS:\n",
    "#         encoded_prono[-1].onset = ONS.index(p) + int(ONS.index(p) < ONS.index(\"oh\"))\n",
    "#     elif p in NUC:\n",
    "#         encoded_prono[-1].nucleus = NUC.index(p) + len(ONS)\n",
    "#         encoded_prono.append(Phone())\n",
    "#     elif p in COD:\n",
    "#         encoded_prono[-2].coda = RCD.index(p) + len(ONS) + len(NUC)"
   ]
  }
 ],
 "metadata": {
  "kernelspec": {
   "display_name": "Python 3 (ipykernel)",
   "language": "python",
   "name": "python3"
  },
  "language_info": {
   "codemirror_mode": {
    "name": "ipython",
    "version": 3
   },
   "file_extension": ".py",
   "mimetype": "text/x-python",
   "name": "python",
   "nbconvert_exporter": "python",
   "pygments_lexer": "ipython3",
   "version": "3.9.5"
  }
 },
 "nbformat": 4,
 "nbformat_minor": 5
}
