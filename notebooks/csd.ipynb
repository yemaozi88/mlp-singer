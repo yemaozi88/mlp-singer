{
 "cells": [
  {
   "cell_type": "code",
   "execution_count": 15,
   "id": "abd8a9e3",
   "metadata": {},
   "outputs": [],
   "source": [
    "import os\n",
    "import sys\n",
    "import glob\n",
    "import importlib\n",
    "\n",
    "repos_mlps_dir = os.path.dirname(os.getcwd())\n",
    "sys.path.append(repos_mlps_dir)\n",
    "import default_settings as default\n",
    "\n",
    "sys.path.append(default.repos_dir)\n",
    "from sak import signal_processing as sp"
   ]
  },
  {
   "cell_type": "code",
   "execution_count": 16,
   "id": "f7e60a98",
   "metadata": {},
   "outputs": [
    {
     "data": {
      "text/plain": [
       "'/home/akikun/common/db/song_corpora/CSD/korean/wav'"
      ]
     },
     "execution_count": 16,
     "metadata": {},
     "output_type": "execute_result"
    }
   ],
   "source": [
    "importlib.reload(default)\n",
    "wav_corpora_dir = os.path.join(default.csd_dir, 'korean', 'wav')\n",
    "work_dir = r'/home/akikun/projects/svs'\n",
    "wav_dir = os.path.join(work_dir, 'data', 'wav')\n",
    "wav_corpora_dir"
   ]
  },
  {
   "cell_type": "code",
   "execution_count": 19,
   "id": "7998a172",
   "metadata": {},
   "outputs": [],
   "source": [
    "wav_in_paths = glob.glob(os.path.join(wav_corpora_dir, '*.wav'))\n",
    "for wav_in_path in wav_in_paths:\n",
    "    wav_filename = os.path.basename(wav_in_path)\n",
    "    wav_out_path = os.path.join(wav_dir, wav_filename)\n",
    "    sp.change_sample_bit_rate(\n",
    "        wav_in_path, wav_out_path, \n",
    "        sample_rate=22050, bit_rate=16, channel=1)"
   ]
  }
 ],
 "metadata": {
  "kernelspec": {
   "display_name": "Python 3 (ipykernel)",
   "language": "python",
   "name": "python3"
  },
  "language_info": {
   "codemirror_mode": {
    "name": "ipython",
    "version": 3
   },
   "file_extension": ".py",
   "mimetype": "text/x-python",
   "name": "python",
   "nbconvert_exporter": "python",
   "pygments_lexer": "ipython3",
   "version": "3.9.5"
  }
 },
 "nbformat": 4,
 "nbformat_minor": 5
}
